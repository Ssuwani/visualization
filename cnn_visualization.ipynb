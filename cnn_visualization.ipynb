{
 "cells": [
  {
   "cell_type": "code",
   "execution_count": 14,
   "id": "5eb6d4c8-f658-4d0c-9f3a-0100010e866d",
   "metadata": {},
   "outputs": [],
   "source": [
    "import tensorflow as tf\n",
    "import matplotlib.pyplot as plt\n",
    "import matplotlib as mpl\n",
    "\n",
    "mpl.rcParams['image.cmap'] = 'gray'"
   ]
  },
  {
   "cell_type": "code",
   "execution_count": 2,
   "id": "dadfb02d-d9d4-4065-8001-7eb4233889fc",
   "metadata": {},
   "outputs": [],
   "source": [
    "mnist = tf.keras.datasets.mnist\n",
    "(train_x, train_y), (test_x, test_y) = mnist.load_data()\n",
    "train_x, test_x = train_x / 255.0, test_x / 255.0\n",
    "train_x = train_x.reshape(-1, 28, 28, 1)\n",
    "test_x = test_x.reshape(-1, 28, 28, 1)"
   ]
  },
  {
   "cell_type": "code",
   "execution_count": 3,
   "id": "cb1fd38c-74c0-466a-a45b-14af08868355",
   "metadata": {},
   "outputs": [
    {
     "name": "stdout",
     "output_type": "stream",
     "text": [
      "Model: \"sequential\"\n",
      "_________________________________________________________________\n",
      "Layer (type)                 Output Shape              Param #   \n",
      "=================================================================\n",
      "conv2d (Conv2D)              (None, 28, 28, 16)        144       \n",
      "_________________________________________________________________\n",
      "conv2d_1 (Conv2D)            (None, 28, 28, 16)        2304      \n",
      "_________________________________________________________________\n",
      "flatten (Flatten)            (None, 12544)             0         \n",
      "_________________________________________________________________\n",
      "dense (Dense)                (None, 100)               1254500   \n",
      "_________________________________________________________________\n",
      "dense_1 (Dense)              (None, 10)                1010      \n",
      "=================================================================\n",
      "Total params: 1,257,958\n",
      "Trainable params: 1,257,958\n",
      "Non-trainable params: 0\n",
      "_________________________________________________________________\n"
     ]
    }
   ],
   "source": [
    "model = tf.keras.Sequential([\n",
    "    tf.keras.layers.Conv2D(16, 3, padding='same', activation='relu', use_bias=False, input_shape=(28, 28, 1)),\n",
    "    tf.keras.layers.Conv2D(16, 3, padding='same', activation='relu', use_bias=False),\n",
    "    tf.keras.layers.Flatten(),\n",
    "    tf.keras.layers.Dense(100, activation='relu'),\n",
    "    tf.keras.layers.Dense(10, activation='softmax')\n",
    "])\n",
    "model.summary()"
   ]
  },
  {
   "cell_type": "code",
   "execution_count": 4,
   "id": "0622408c-895b-4c1e-b97a-3a6a517ca57c",
   "metadata": {},
   "outputs": [],
   "source": [
    "model.compile(optimizer='adam', loss='sparse_categorical_crossentropy', metrics=['accuracy'])"
   ]
  },
  {
   "cell_type": "code",
   "execution_count": 5,
   "id": "6802023a-c152-42df-8610-8be7e076dc90",
   "metadata": {},
   "outputs": [],
   "source": [
    "class CustomCallback(tf.keras.callbacks.Callback):\n",
    "    def __init__(self, image):\n",
    "        self.image = image\n",
    "        self.cnn_1_results = []\n",
    "        self.cnn_2_results = []\n",
    "\n",
    "    def on_epoch_begin(self, epoch, logs=None):\n",
    "        cnn_1_result = self.model.layers[0](self.image)\n",
    "        cnn_2_result = self.model.layers[1](cnn_1_result)\n",
    "        self.cnn_1_results.append(cnn_1_result)\n",
    "        self.cnn_2_results.append(cnn_2_result)\n"
   ]
  },
  {
   "cell_type": "code",
   "execution_count": 6,
   "id": "ca103ebc-93d4-449d-bb57-ce75a277838b",
   "metadata": {},
   "outputs": [
    {
     "name": "stdout",
     "output_type": "stream",
     "text": [
      "Epoch 1/5\n",
      "1875/1875 [==============================] - 18s 9ms/step - loss: 0.1332 - accuracy: 0.9595\n",
      "Epoch 2/5\n",
      "1875/1875 [==============================] - 18s 9ms/step - loss: 0.0425 - accuracy: 0.9864\n",
      "Epoch 3/5\n",
      "1875/1875 [==============================] - 18s 10ms/step - loss: 0.0249 - accuracy: 0.9920\n",
      "Epoch 4/5\n",
      "1875/1875 [==============================] - 18s 9ms/step - loss: 0.0160 - accuracy: 0.9949\n",
      "Epoch 5/5\n",
      "1875/1875 [==============================] - 18s 10ms/step - loss: 0.0127 - accuracy: 0.9958\n"
     ]
    }
   ],
   "source": [
    "sw = CustomCallback(test_x[0:1])\n",
    "history = model.fit(train_x, train_y, epochs=5, callbacks=[sw])"
   ]
  },
  {
   "cell_type": "code",
   "execution_count": 8,
   "id": "12f5213e-bfd9-41ce-8f94-9c7086355f57",
   "metadata": {},
   "outputs": [
    {
     "data": {
      "text/plain": [
       "TensorShape([1, 28, 28, 16])"
      ]
     },
     "execution_count": 8,
     "metadata": {},
     "output_type": "execute_result"
    }
   ],
   "source": [
    "sw.cnn_1_results[0].shape"
   ]
  },
  {
   "cell_type": "code",
   "execution_count": 24,
   "id": "3fc03796-9ec6-46ff-8868-5c88b9ded33e",
   "metadata": {},
   "outputs": [
    {
     "data": {
      "image/png": "[encoded data removed]",
      "text/plain": [
       "<Figure size 720x720 with 16 Axes>"
      ]
     },
     "metadata": {
      "needs_background": "light"
     },
     "output_type": "display_data"
    }
   ],
   "source": [
    "plt.figure(figsize=(10, 10))\n",
    "for epoch, cnn_1_result in enumerate(sw.cnn_1_results):\n",
    "    for i in range(cnn_1_result.shape[-1]):\n",
    "        plt.subplot(4, 4, i+1)\n",
    "        plt.imshow(cnn_1_result[0][:, :, i])\n",
    "        plt.title(f\"filter {i+1}\")\n",
    "        plt.axis('off')\n",
    "    plt.savefig(f'cnn_1_{epoch+1}.png')\n",
    "plt.show()        "
   ]
  },
  {
   "cell_type": "code",
   "execution_count": 25,
   "id": "a504c411-f227-4ccb-896f-9664a15c4cc7",
   "metadata": {},
   "outputs": [
    {
     "data": {
      "image/png": "[encoded data removed]",
      "text/plain": [
       "<Figure size 720x720 with 16 Axes>"
      ]
     },
     "metadata": {
      "needs_background": "light"
     },
     "output_type": "display_data"
    }
   ],
   "source": [
    "plt.figure(figsize=(10, 10))\n",
    "for epoch, result in enumerate(sw.cnn_2_results):\n",
    "    for i in range(result.shape[-1]):\n",
    "        plt.subplot(4, 4, i+1)\n",
    "        plt.imshow(result[0][:, :, i])\n",
    "        plt.title(f\"filter {i+1}\")\n",
    "        plt.axis('off')\n",
    "    plt.savefig(f'cnn_2_{epoch+1}.png')\n",
    "plt.show()  "
   ]
  },
  {
   "cell_type": "code",
   "execution_count": 27,
   "id": "f390a618-e481-4254-a809-92cbf428a644",
   "metadata": {},
   "outputs": [],
   "source": [
    "import imageio\n",
    "import glob\n",
    "\n",
    "filenames = glob.glob(\"cnn_2*\")\n",
    "with imageio.get_writer('cnn_2.gif', mode='I') as writer:\n",
    "    for filename in filenames:\n",
    "        image = imageio.imread(filename)\n",
    "        writer.append_data(image)"
   ]
  },
  {
   "cell_type": "code",
   "execution_count": null,
   "id": "64ace91a-df05-4e6e-8198-bb47a794cb1f",
   "metadata": {},
   "outputs": [],
   "source": []
  }
 ],
 "metadata": {
  "kernelspec": {
   "display_name": "Python 3",
   "language": "python",
   "name": "python3"
  },
  "language_info": {
   "codemirror_mode": {
    "name": "ipython",
    "version": 3
   },
   "file_extension": ".py",
   "mimetype": "text/x-python",
   "name": "python",
   "nbconvert_exporter": "python",
   "pygments_lexer": "ipython3",
   "version": "3.8.10"
  }
 },
 "nbformat": 4,
 "nbformat_minor": 5
}
